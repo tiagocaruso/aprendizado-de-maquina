{
 "cells": [
  {
   "cell_type": "code",
   "execution_count": 1,
   "metadata": {},
   "outputs": [],
   "source": [
    "import numpy as np\n",
    "import pandas as pd\n",
    "import matplotlib.pyplot as plt"
   ]
  },
  {
   "cell_type": "code",
   "execution_count": 2,
   "metadata": {},
   "outputs": [],
   "source": [
    "# Pacotes de Machine Leaning \n",
    "from sklearn import datasets\n",
    "from sklearn.linear_model import LinearRegression\n",
    "from sklearn.linear_model import Lasso\n",
    "from sklearn.model_selection import train_test_split\n",
    "from sklearn.metrics import r2_score\n"
   ]
  },
  {
   "cell_type": "code",
   "execution_count": 3,
   "metadata": {},
   "outputs": [],
   "source": [
    "# Pacotes de Estatística\n",
    "import statsmodels.api as sm\n",
    "import statsmodels.formula.api as smf"
   ]
  },
  {
   "cell_type": "markdown",
   "metadata": {},
   "source": [
    "# Um exemplo simples"
   ]
  },
  {
   "cell_type": "code",
   "execution_count": 4,
   "metadata": {},
   "outputs": [],
   "source": [
    "X = 3 * np.random.rand(100, 1)\n",
    "theta_0 = 4\n",
    "theta_1 = 3\n",
    "Y = theta_0 + theta_1 * X + np.random.randn(100, 1)"
   ]
  },
  {
   "cell_type": "code",
   "execution_count": 5,
   "metadata": {},
   "outputs": [
    {
     "data": {
      "image/png": "[encoded data removed]",
      "text/plain": [
       "<Figure size 720x432 with 1 Axes>"
      ]
     },
     "metadata": {
      "needs_background": "light"
     },
     "output_type": "display_data"
    }
   ],
   "source": [
    "plt.figure(figsize=(10,6))\n",
    "plt.scatter(X, Y, c=\"r\", alpha=0.5)\n",
    "plt.xlabel(\"X\", fontsize=14)\n",
    "plt.ylabel(\"Y\", fontsize=14)\n",
    "plt.show()"
   ]
  },
  {
   "cell_type": "markdown",
   "metadata": {},
   "source": [
    "## Estimar os parâmetros usando a formula da regressão linear"
   ]
  },
  {
   "cell_type": "code",
   "execution_count": 6,
   "metadata": {},
   "outputs": [
    {
     "name": "stdout",
     "output_type": "stream",
     "text": [
      "O intercepto estimado foi 3.975\n",
      "A inclinação estimada foi 3.018\n"
     ]
    }
   ],
   "source": [
    "# Usando a fórmula \n",
    "y_bar = np.mean(Y)\n",
    "x_bar = np.mean(X)\n",
    "m = np.concatenate((X, Y), axis=1)\n",
    "covXY = np.cov(m,rowvar=False)[0][1]\n",
    "varX = np.cov(m,rowvar=False)[0][0]\n",
    "theta_1_est = covXY/varX\n",
    "theta_0_est = y_bar - theta_1*x_bar\n",
    "y_hat = theta_0 + theta_1*X\n",
    "print('O intercepto estimado foi %.3f' %theta_0_est)\n",
    "print('A inclinação estimada foi %.3f' %theta_1_est)"
   ]
  },
  {
   "cell_type": "markdown",
   "metadata": {},
   "source": [
    "### Criando os valores previstos"
   ]
  },
  {
   "cell_type": "code",
   "execution_count": 7,
   "metadata": {},
   "outputs": [
    {
     "data": {
      "image/png": "[encoded data removed]",
      "text/plain": [
       "<Figure size 720x432 with 1 Axes>"
      ]
     },
     "metadata": {
      "needs_background": "light"
     },
     "output_type": "display_data"
    }
   ],
   "source": [
    "plt.figure(figsize=(10,6))\n",
    "plt.scatter(X, Y, c=\"r\", alpha=0.5)\n",
    "plt.scatter(X, y_hat, c=\"b\", alpha=0.5)\n",
    "plt.xlabel(\"X\", fontsize=14)\n",
    "plt.ylabel(\"Y\", fontsize=14)\n",
    "plt.show()"
   ]
  },
  {
   "cell_type": "markdown",
   "metadata": {},
   "source": [
    "## Estimando usando Sklearn"
   ]
  },
  {
   "cell_type": "code",
   "execution_count": 8,
   "metadata": {},
   "outputs": [
    {
     "name": "stdout",
     "output_type": "stream",
     "text": [
      "O intercepto estimado foi 3.947\n",
      "A inclinação estimada foi 3.018\n"
     ]
    }
   ],
   "source": [
    "regression = LinearRegression()\n",
    "regression.fit(X,Y)\n",
    "new_theta_0 = regression.intercept_\n",
    "new_theta_1 = regression.coef_\n",
    "print('O intercepto estimado foi %.3f' %new_theta_0)\n",
    "print('A inclinação estimada foi %.3f' %new_theta_1)\n"
   ]
  },
  {
   "cell_type": "markdown",
   "metadata": {},
   "source": [
    "# Exemplo de diabetes"
   ]
  },
  {
   "cell_type": "code",
   "execution_count": 9,
   "metadata": {},
   "outputs": [],
   "source": [
    "# Load the diabetes dataset\n",
    "diabetes = datasets.load_diabetes()"
   ]
  },
  {
   "cell_type": "code",
   "execution_count": 10,
   "metadata": {},
   "outputs": [
    {
     "name": "stdout",
     "output_type": "stream",
     "text": [
      "(442, 11)\n"
     ]
    },
    {
     "data": {
      "text/html": [
       "<div>\n",
       "<style scoped>\n",
       "    .dataframe tbody tr th:only-of-type {\n",
       "        vertical-align: middle;\n",
       "    }\n",
       "\n",
       "    .dataframe tbody tr th {\n",
       "        vertical-align: top;\n",
       "    }\n",
       "\n",
       "    .dataframe thead th {\n",
       "        text-align: right;\n",
       "    }\n",
       "</style>\n",
       "<table border=\"1\" class=\"dataframe\">\n",
       "  <thead>\n",
       "    <tr style=\"text-align: right;\">\n",
       "      <th></th>\n",
       "      <th>age</th>\n",
       "      <th>sex</th>\n",
       "      <th>bmi</th>\n",
       "      <th>bp</th>\n",
       "      <th>target</th>\n",
       "    </tr>\n",
       "  </thead>\n",
       "  <tbody>\n",
       "    <tr>\n",
       "      <th>0</th>\n",
       "      <td>0.038076</td>\n",
       "      <td>0.050680</td>\n",
       "      <td>0.061696</td>\n",
       "      <td>0.021872</td>\n",
       "      <td>151.0</td>\n",
       "    </tr>\n",
       "    <tr>\n",
       "      <th>1</th>\n",
       "      <td>-0.001882</td>\n",
       "      <td>-0.044642</td>\n",
       "      <td>-0.051474</td>\n",
       "      <td>-0.026328</td>\n",
       "      <td>75.0</td>\n",
       "    </tr>\n",
       "    <tr>\n",
       "      <th>2</th>\n",
       "      <td>0.085299</td>\n",
       "      <td>0.050680</td>\n",
       "      <td>0.044451</td>\n",
       "      <td>-0.005671</td>\n",
       "      <td>141.0</td>\n",
       "    </tr>\n",
       "    <tr>\n",
       "      <th>3</th>\n",
       "      <td>-0.089063</td>\n",
       "      <td>-0.044642</td>\n",
       "      <td>-0.011595</td>\n",
       "      <td>-0.036656</td>\n",
       "      <td>206.0</td>\n",
       "    </tr>\n",
       "    <tr>\n",
       "      <th>4</th>\n",
       "      <td>0.005383</td>\n",
       "      <td>-0.044642</td>\n",
       "      <td>-0.036385</td>\n",
       "      <td>0.021872</td>\n",
       "      <td>135.0</td>\n",
       "    </tr>\n",
       "  </tbody>\n",
       "</table>\n",
       "</div>"
      ],
      "text/plain": [
       "        age       sex       bmi        bp  target\n",
       "0  0.038076  0.050680  0.061696  0.021872   151.0\n",
       "1 -0.001882 -0.044642 -0.051474 -0.026328    75.0\n",
       "2  0.085299  0.050680  0.044451 -0.005671   141.0\n",
       "3 -0.089063 -0.044642 -0.011595 -0.036656   206.0\n",
       "4  0.005383 -0.044642 -0.036385  0.021872   135.0"
      ]
     },
     "execution_count": 10,
     "metadata": {},
     "output_type": "execute_result"
    }
   ],
   "source": [
    "data = pd.DataFrame(data=diabetes['data'], columns=diabetes['feature_names'])\n",
    "data['target'] = diabetes['target']\n",
    "print(data.shape)\n",
    "features = ['age','sex','bmi','bp']\n",
    "y_var = ['target']\n",
    "data[features + y_var].head()"
   ]
  },
  {
   "cell_type": "markdown",
   "metadata": {},
   "source": [
    "# Examplo Statsmodel "
   ]
  },
  {
   "cell_type": "code",
   "execution_count": 11,
   "metadata": {},
   "outputs": [
    {
     "name": "stdout",
     "output_type": "stream",
     "text": [
      "                            OLS Regression Results                            \n",
      "==============================================================================\n",
      "Dep. Variable:                 target   R-squared:                       0.400\n",
      "Model:                            OLS   Adj. R-squared:                  0.395\n",
      "Method:                 Least Squares   F-statistic:                     72.91\n",
      "Date:                Tue, 03 Mar 2020   Prob (F-statistic):           2.70e-47\n",
      "Time:                        21:26:25   Log-Likelihood:                -2434.2\n",
      "No. Observations:                 442   AIC:                             4878.\n",
      "Df Residuals:                     437   BIC:                             4899.\n",
      "Df Model:                           4                                         \n",
      "Covariance Type:            nonrobust                                         \n",
      "==============================================================================\n",
      "                 coef    std err          t      P>|t|      [0.025      0.975]\n",
      "------------------------------------------------------------------------------\n",
      "Intercept    152.1335      2.853     53.329      0.000     146.527     157.740\n",
      "age           37.2412     64.117      0.581      0.562     -88.776     163.258\n",
      "sex         -106.5775     62.125     -1.716      0.087    -228.679      15.524\n",
      "bmi          787.1793     65.424     12.032      0.000     658.594     915.764\n",
      "bp           416.6738     69.495      5.996      0.000     280.088     553.259\n",
      "==============================================================================\n",
      "Omnibus:                        9.858   Durbin-Watson:                   1.933\n",
      "Prob(Omnibus):                  0.007   Jarque-Bera (JB):                6.464\n",
      "Skew:                           0.146   Prob(JB):                       0.0395\n",
      "Kurtosis:                       2.485   Cond. No.                         28.4\n",
      "==============================================================================\n",
      "\n",
      "Warnings:\n",
      "[1] Standard Errors assume that the covariance matrix of the errors is correctly specified.\n"
     ]
    }
   ],
   "source": [
    "mod = smf.ols(formula='target ~ age + sex + bmi + bp', data=data)\n",
    "reg = mod.fit()\n",
    "print(reg.summary())"
   ]
  },
  {
   "cell_type": "markdown",
   "metadata": {},
   "source": [
    "# Using Sklearn"
   ]
  },
  {
   "cell_type": "code",
   "execution_count": 12,
   "metadata": {},
   "outputs": [],
   "source": [
    "X = data[features].copy()\n",
    "y = data[y_var].copy()\n",
    "# Splitting between train and test\n",
    "X_train, X_test, y_train, y_test = train_test_split(X, y, test_size=0.20, random_state=42)\n",
    "# Splitting train between train and validation\n",
    "X_train, X_val, y_train, y_val = train_test_split(X_train, y_train, test_size=80,\n",
    "                                                  random_state=42)"
   ]
  },
  {
   "cell_type": "code",
   "execution_count": 13,
   "metadata": {},
   "outputs": [
    {
     "name": "stdout",
     "output_type": "stream",
     "text": [
      "(273, 4)\n",
      "(80, 4)\n",
      "(89, 4)\n"
     ]
    }
   ],
   "source": [
    "print(X_train.shape)\n",
    "print(X_val.shape)\n",
    "print(X_test.shape)"
   ]
  },
  {
   "cell_type": "markdown",
   "metadata": {},
   "source": [
    "## Usando Linear Regression"
   ]
  },
  {
   "cell_type": "code",
   "execution_count": 14,
   "metadata": {},
   "outputs": [
    {
     "name": "stdout",
     "output_type": "stream",
     "text": [
      "R2 da regressão no conjunto treino foi 0.41802\n",
      "R2 da regressão no conjunto teste foi 0.29013\n"
     ]
    }
   ],
   "source": [
    "regression = LinearRegression()\n",
    "regression.fit(X_train,y_train)\n",
    "predict_train = regression.predict(X_train)\n",
    "predict_test = regression.predict(X_test)\n",
    "print('R2 da regressão no conjunto treino foi %.5f' %r2_score(y_train,predict_train))\n",
    "print('R2 da regressão no conjunto teste foi %.5f' %r2_score(y_test,predict_test))"
   ]
  },
  {
   "cell_type": "markdown",
   "metadata": {},
   "source": [
    "## Usando Lasso"
   ]
  },
  {
   "cell_type": "code",
   "execution_count": 15,
   "metadata": {},
   "outputs": [
    {
     "name": "stdout",
     "output_type": "stream",
     "text": [
      "R2 da regressão Lasso no conjunto treino foi 0.41800\n",
      "R2 da regressão Lasso no conjunto teste foi 0.29113\n"
     ]
    }
   ],
   "source": [
    "punicao = 0.01\n",
    "lasso = Lasso(alpha=punicao)\n",
    "lasso.fit(X_train,y_train)\n",
    "predict_train = lasso.predict(X_train)\n",
    "predict_test = lasso.predict(X_test)\n",
    "print('R2 da regressão Lasso no conjunto treino foi %.5f' %r2_score(y_train,predict_train))\n",
    "print('R2 da regressão Lasso no conjunto teste foi %.5f' %r2_score(y_test,predict_test))"
   ]
  },
  {
   "cell_type": "markdown",
   "metadata": {},
   "source": [
    "## Escolhendo a melhor taxa de punição"
   ]
  },
  {
   "cell_type": "code",
   "execution_count": 16,
   "metadata": {},
   "outputs": [
    {
     "data": {
      "text/plain": [
       "array([1.00000000e+00, 7.73824437e-01, 5.98804260e-01, 4.63369369e-01,\n",
       "       3.58566541e-01, 2.77467552e-01, 2.14711172e-01, 1.66148752e-01,\n",
       "       1.28569965e-01, 9.94905805e-02, 7.69882425e-02, 5.95753834e-02,\n",
       "       4.61008875e-02, 3.56739933e-02, 2.76054078e-02, 2.13617392e-02,\n",
       "       1.65302358e-02, 1.27915004e-02, 9.89837561e-03, 7.65960493e-03,\n",
       "       5.92718948e-03, 4.58660406e-03, 3.54922631e-03, 2.74647805e-03,\n",
       "       2.12529183e-03, 1.64460275e-03, 1.27263380e-03, 9.84795135e-04,\n",
       "       7.62058541e-04, 5.89699522e-04, 4.56323901e-04, 3.53114586e-04,\n",
       "       2.73248695e-04, 2.11446518e-04, 1.63622483e-04, 1.26615076e-04,\n",
       "       9.79778397e-05, 7.58176466e-05, 5.86695477e-05, 4.53999298e-05])"
      ]
     },
     "execution_count": 16,
     "metadata": {},
     "output_type": "execute_result"
    }
   ],
   "source": [
    "punicoes_base10 = -np.linspace(0, 10, num=40, endpoint=True)\n",
    "punicoes = np.exp(punicoes_base10)\n",
    "punicoes"
   ]
  },
  {
   "cell_type": "code",
   "execution_count": 17,
   "metadata": {},
   "outputs": [
    {
     "name": "stdout",
     "output_type": "stream",
     "text": [
      "Punicao 1.00000: R2-validacao = 0.28726\n",
      "Punicao 0.77382: R2-validacao = 0.33689\n",
      "Punicao 0.59880: R2-validacao = 0.36616\n",
      "Punicao 0.46337: R2-validacao = 0.38333\n",
      "Punicao 0.35857: R2-validacao = 0.39334\n",
      "Punicao 0.27747: R2-validacao = 0.39913\n",
      "Punicao 0.21471: R2-validacao = 0.40097\n",
      "Punicao 0.16615: R2-validacao = 0.40083\n",
      "Punicao 0.12857: R2-validacao = 0.40002\n",
      "Punicao 0.09949: R2-validacao = 0.39880\n",
      "Punicao 0.07699: R2-validacao = 0.39749\n",
      "Punicao 0.05958: R2-validacao = 0.39627\n",
      "Punicao 0.04610: R2-validacao = 0.39519\n",
      "Punicao 0.03567: R2-validacao = 0.39428\n",
      "Punicao 0.02761: R2-validacao = 0.39353\n",
      "Punicao 0.02136: R2-validacao = 0.39292\n",
      "Punicao 0.01653: R2-validacao = 0.39243\n",
      "Punicao 0.01279: R2-validacao = 0.39205\n",
      "Punicao 0.00990: R2-validacao = 0.39174\n",
      "Punicao 0.00766: R2-validacao = 0.39150\n",
      "Punicao 0.00593: R2-validacao = 0.39131\n",
      "Punicao 0.00459: R2-validacao = 0.39117\n",
      "Punicao 0.00355: R2-validacao = 0.39105\n",
      "Punicao 0.00275: R2-validacao = 0.39096\n",
      "Punicao 0.00213: R2-validacao = 0.39089\n",
      "Punicao 0.00164: R2-validacao = 0.39084\n",
      "Punicao 0.00127: R2-validacao = 0.39080\n",
      "Punicao 0.00098: R2-validacao = 0.39077\n",
      "Punicao 0.00076: R2-validacao = 0.39074\n",
      "Punicao 0.00059: R2-validacao = 0.39072\n",
      "Punicao 0.00046: R2-validacao = 0.39071\n",
      "Punicao 0.00035: R2-validacao = 0.39070\n",
      "Punicao 0.00027: R2-validacao = 0.39069\n",
      "Punicao 0.00021: R2-validacao = 0.39068\n",
      "Punicao 0.00016: R2-validacao = 0.39067\n",
      "Punicao 0.00013: R2-validacao = 0.39067\n",
      "Punicao 0.00010: R2-validacao = 0.39067\n",
      "Punicao 0.00008: R2-validacao = 0.39066\n",
      "Punicao 0.00006: R2-validacao = 0.39066\n",
      "Punicao 0.00005: R2-validacao = 0.39066\n"
     ]
    }
   ],
   "source": [
    "melhor_resultado_val = -np.inf\n",
    "melhor_punicao = None\n",
    "for punicao in punicoes:\n",
    "    lasso = Lasso(alpha=punicao)\n",
    "    lasso.fit(X_train,y_train)\n",
    "    previsao_val = lasso.predict(X_val)\n",
    "    r2_val = r2_score(y_val,previsao_val)\n",
    "    print('Punicao %.5f: R2-validacao = %.5f' %(punicao,r2_val))\n",
    "    if r2_val >= melhor_resultado_val:\n",
    "        melhor_punicao = punicao\n",
    "        melhor_resultado_val = r2_val"
   ]
  },
  {
   "cell_type": "code",
   "execution_count": 18,
   "metadata": {},
   "outputs": [
    {
     "data": {
      "text/plain": [
       "0.2147111723416973"
      ]
     },
     "execution_count": 18,
     "metadata": {},
     "output_type": "execute_result"
    }
   ],
   "source": [
    "melhor_punicao"
   ]
  },
  {
   "cell_type": "code",
   "execution_count": 19,
   "metadata": {},
   "outputs": [
    {
     "name": "stdout",
     "output_type": "stream",
     "text": [
      "R2 da regressão Lasso com a melhor punição no conjunto treino = 0.40729\n",
      "R2 da regressão Lasso com a melhor punição no conjunto treino = 0.30050\n"
     ]
    }
   ],
   "source": [
    "punicao = melhor_punicao\n",
    "lasso = Lasso(alpha=punicao)\n",
    "lasso.fit(X_train,y_train)\n",
    "predict_train = lasso.predict(X_train)\n",
    "predict_test = lasso.predict(X_test)\n",
    "print('R2 da regressão Lasso com a melhor punição no conjunto treino = %.5f' %r2_score(y_train,predict_train))\n",
    "print('R2 da regressão Lasso com a melhor punição no conjunto treino = %.5f' %r2_score(y_test,predict_test))"
   ]
  },
  {
   "cell_type": "code",
   "execution_count": null,
   "metadata": {},
   "outputs": [],
   "source": []
  }
 ],
 "metadata": {
  "kernelspec": {
   "display_name": "Python 2",
   "language": "python",
   "name": "python2"
  },
  "language_info": {
   "codemirror_mode": {
    "name": "ipython",
    "version": 2
   },
   "file_extension": ".py",
   "mimetype": "text/x-python",
   "name": "python",
   "nbconvert_exporter": "python",
   "pygments_lexer": "ipython2",
   "version": "2.7.10"
  }
 },
 "nbformat": 4,
 "nbformat_minor": 2
}
