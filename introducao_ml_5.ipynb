{
 "cells": [
  {
   "cell_type": "code",
   "execution_count": 2,
   "metadata": {},
   "outputs": [],
   "source": [
    "import tensorflow as tf\n",
    "from tensorflow import keras"
   ]
  },
  {
   "cell_type": "code",
   "execution_count": 3,
   "metadata": {},
   "outputs": [],
   "source": [
    "import numpy as np\n",
    "import pandas as pd\n",
    "from matplotlib import pyplot as plt\n",
    "%matplotlib inline "
   ]
  },
  {
   "cell_type": "markdown",
   "metadata": {},
   "source": [
    "## Importando base de dados"
   ]
  },
  {
   "cell_type": "code",
   "execution_count": 4,
   "metadata": {},
   "outputs": [],
   "source": [
    "fashion_mnist = keras.datasets.fashion_mnist\n"
   ]
  },
  {
   "cell_type": "code",
   "execution_count": 5,
   "metadata": {},
   "outputs": [],
   "source": [
    "(X_train_full, y_train_full), (X_test, y_test) = fashion_mnist.load_data()"
   ]
  },
  {
   "cell_type": "code",
   "execution_count": 6,
   "metadata": {},
   "outputs": [
    {
     "name": "stdout",
     "output_type": "stream",
     "text": [
      "(60000, 28, 28)\n",
      "(60000,)\n",
      "(10000, 28, 28)\n",
      "(10000,)\n"
     ]
    }
   ],
   "source": [
    "print(X_train_full.shape)\n",
    "print(y_train_full.shape)\n",
    "print(X_test.shape)\n",
    "print(y_test.shape)"
   ]
  },
  {
   "cell_type": "code",
   "execution_count": 7,
   "metadata": {},
   "outputs": [],
   "source": [
    "# Transformar a escala para que os valores fiquem entre 0 e 1\n",
    "X_valid, X_train = X_train_full[:5000] / 255.0, X_train_full[5000:] / 255.0\n",
    "y_valid, y_train = y_train_full[:5000], y_train_full[5000:]"
   ]
  },
  {
   "cell_type": "code",
   "execution_count": 9,
   "metadata": {},
   "outputs": [],
   "source": [
    "nomes_classes = [\"camisa/top\", \"calca\", \"casaco\", \"vestido\", \"jaqueta\", \n",
    "               \"sandalia\", \"camiseta\", \"tenis\", \"bolsa\", \"bota\"]"
   ]
  },
  {
   "cell_type": "code",
   "execution_count": 10,
   "metadata": {},
   "outputs": [
    {
     "data": {
      "text/plain": [
       "'jaqueta'"
      ]
     },
     "execution_count": 10,
     "metadata": {},
     "output_type": "execute_result"
    }
   ],
   "source": [
    "nomes_classes[y_train[0]]"
   ]
  },
  {
   "cell_type": "code",
   "execution_count": 11,
   "metadata": {},
   "outputs": [
    {
     "data": {
      "text/plain": [
       "array([[0.        , 0.        , 0.        , 0.        , 0.        ,\n",
       "        0.        , 0.        , 0.        , 0.        , 0.        ,\n",
       "        0.        , 0.        , 0.        , 0.        , 0.        ,\n",
       "        0.        , 0.        , 0.        , 0.        , 0.00392157,\n",
       "        0.        , 0.        , 0.        , 0.        , 0.        ,\n",
       "        0.        , 0.        , 0.        ],\n",
       "       [0.        , 0.        , 0.        , 0.        , 0.        ,\n",
       "        0.        , 0.        , 0.        , 0.        , 0.        ,\n",
       "        0.        , 0.17254902, 0.49803922, 0.71372549, 0.7254902 ,\n",
       "        0.63137255, 0.47058824, 0.21568627, 0.        , 0.        ,\n",
       "        0.        , 0.        , 0.        , 0.        , 0.        ,\n",
       "        0.        , 0.        , 0.        ],\n",
       "       [0.        , 0.        , 0.        , 0.        , 0.        ,\n",
       "        0.        , 0.        , 0.        , 0.        , 0.16470588,\n",
       "        0.77647059, 0.98431373, 1.        , 0.98431373, 0.97647059,\n",
       "        0.96862745, 1.        , 0.98823529, 0.83921569, 0.39215686,\n",
       "        0.        , 0.        , 0.        , 0.        , 0.        ,\n",
       "        0.        , 0.        , 0.        ],\n",
       "       [0.        , 0.        , 0.        , 0.        , 0.        ,\n",
       "        0.        , 0.00784314, 0.        , 0.        , 0.91372549,\n",
       "        0.98823529, 0.92941176, 0.9372549 , 0.91764706, 0.92941176,\n",
       "        0.92156863, 0.92941176, 0.92941176, 0.99607843, 0.89019608,\n",
       "        0.        , 0.        , 0.        , 0.        , 0.00392157,\n",
       "        0.        , 0.        , 0.        ],\n",
       "       [0.        , 0.        , 0.        , 0.        , 0.        ,\n",
       "        0.00784314, 0.        , 0.        , 0.0627451 , 0.82352941,\n",
       "        0.88235294, 0.84313725, 0.68627451, 0.85098039, 0.84705882,\n",
       "        0.75686275, 0.76862745, 0.88627451, 0.86666667, 0.81960784,\n",
       "        0.19607843, 0.        , 0.        , 0.00784314, 0.        ,\n",
       "        0.        , 0.        , 0.        ],\n",
       "       [0.        , 0.        , 0.        , 0.        , 0.00784314,\n",
       "        0.        , 0.        , 0.78039216, 0.89803922, 0.90980392,\n",
       "        0.90196078, 0.96078431, 0.8       , 0.85882353, 0.99215686,\n",
       "        0.96078431, 0.81176471, 0.76078431, 0.8745098 , 0.90588235,\n",
       "        0.9254902 , 0.92156863, 0.        , 0.        , 0.01176471,\n",
       "        0.        , 0.        , 0.        ],\n",
       "       [0.        , 0.        , 0.        , 0.        , 0.00392157,\n",
       "        0.        , 0.5372549 , 0.92156863, 0.8       , 0.81960784,\n",
       "        0.78823529, 0.81960784, 0.91764706, 0.74509804, 0.91764706,\n",
       "        0.85490196, 0.84313725, 0.93333333, 0.9372549 , 0.8       ,\n",
       "        0.74117647, 0.87843137, 0.60392157, 0.        , 0.        ,\n",
       "        0.        , 0.        , 0.        ],\n",
       "       [0.        , 0.        , 0.        , 0.        , 0.        ,\n",
       "        0.        , 0.76078431, 0.78823529, 0.78431373, 0.81960784,\n",
       "        0.79215686, 0.75686275, 0.80392157, 0.76078431, 0.71764706,\n",
       "        0.85490196, 0.90588235, 0.77254902, 0.6745098 , 0.70980392,\n",
       "        0.75686275, 0.80392157, 0.78039216, 0.        , 0.        ,\n",
       "        0.        , 0.        , 0.        ],\n",
       "       [0.        , 0.        , 0.        , 0.        , 0.        ,\n",
       "        0.01176471, 0.83137255, 0.79607843, 0.7372549 , 0.74117647,\n",
       "        0.76862745, 0.77647059, 0.77647059, 0.78823529, 0.76862745,\n",
       "        0.85098039, 0.70196078, 0.65490196, 0.71764706, 0.85098039,\n",
       "        0.77254902, 0.79215686, 0.85882353, 0.11764706, 0.        ,\n",
       "        0.        , 0.        , 0.        ],\n",
       "       [0.        , 0.        , 0.        , 0.        , 0.        ,\n",
       "        0.13333333, 0.88235294, 0.78431373, 0.76078431, 0.74509804,\n",
       "        0.7372549 , 0.75294118, 0.76862745, 0.75294118, 0.66666667,\n",
       "        0.79215686, 0.74509804, 0.78823529, 0.76470588, 0.78431373,\n",
       "        0.78823529, 0.81960784, 0.89019608, 0.19607843, 0.        ,\n",
       "        0.        , 0.        , 0.        ],\n",
       "       [0.        , 0.        , 0.        , 0.        , 0.        ,\n",
       "        0.26666667, 0.88235294, 0.82352941, 0.82745098, 0.77647059,\n",
       "        0.75294118, 0.76862745, 0.8       , 0.76862745, 0.70980392,\n",
       "        0.83137255, 0.77254902, 0.76470588, 0.75294118, 0.80784314,\n",
       "        0.8627451 , 0.82352941, 0.89803922, 0.36470588, 0.        ,\n",
       "        0.        , 0.        , 0.        ],\n",
       "       [0.        , 0.        , 0.        , 0.        , 0.        ,\n",
       "        0.43529412, 0.8745098 , 0.89019608, 0.99215686, 0.81960784,\n",
       "        0.76862745, 0.8       , 0.82745098, 0.80784314, 0.71764706,\n",
       "        0.84705882, 0.80784314, 0.82352941, 0.79607843, 0.84313725,\n",
       "        0.95686275, 0.87843137, 0.89019608, 0.58823529, 0.        ,\n",
       "        0.        , 0.        , 0.        ],\n",
       "       [0.        , 0.        , 0.        , 0.        , 0.        ,\n",
       "        0.54509804, 0.88235294, 0.87843137, 1.        , 0.79215686,\n",
       "        0.80784314, 0.83137255, 0.81960784, 0.82745098, 0.74509804,\n",
       "        0.83529412, 0.79215686, 0.81176471, 0.80784314, 0.87058824,\n",
       "        1.        , 0.90196078, 0.8627451 , 0.74509804, 0.        ,\n",
       "        0.        , 0.        , 0.        ],\n",
       "       [0.        , 0.        , 0.        , 0.        , 0.        ,\n",
       "        0.70588235, 0.88627451, 0.87843137, 1.        , 0.78039216,\n",
       "        0.8       , 0.81176471, 0.83921569, 0.83921569, 0.74509804,\n",
       "        0.84705882, 0.80784314, 0.79607843, 0.80392157, 0.85882353,\n",
       "        0.95294118, 0.87843137, 0.83921569, 0.91764706, 0.        ,\n",
       "        0.        , 0.        , 0.        ],\n",
       "       [0.        , 0.        , 0.        , 0.        , 0.        ,\n",
       "        0.88235294, 0.8745098 , 0.89411765, 0.99607843, 0.81960784,\n",
       "        0.80784314, 0.81568627, 0.83529412, 0.82352941, 0.74901961,\n",
       "        0.84313725, 0.81176471, 0.8       , 0.81568627, 0.82745098,\n",
       "        0.97647059, 0.88627451, 0.83921569, 1.        , 0.14901961,\n",
       "        0.        , 0.        , 0.        ],\n",
       "       [0.        , 0.        , 0.        , 0.        , 0.        ,\n",
       "        0.98039216, 0.90980392, 0.94117647, 0.9372549 , 0.82745098,\n",
       "        0.79607843, 0.81960784, 0.80392157, 0.82745098, 0.77254902,\n",
       "        0.84313725, 0.81568627, 0.81568627, 0.83921569, 0.83529412,\n",
       "        0.9372549 , 0.90588235, 0.85882353, 1.        , 0.31764706,\n",
       "        0.        , 0.        , 0.        ],\n",
       "       [0.        , 0.        , 0.        , 0.        , 0.        ,\n",
       "        0.97254902, 0.9254902 , 0.96862745, 0.94117647, 0.79607843,\n",
       "        0.78431373, 0.81568627, 0.80784314, 0.83921569, 0.75686275,\n",
       "        0.83529412, 0.83137255, 0.81568627, 0.83137255, 0.82745098,\n",
       "        0.95294118, 0.94901961, 0.88235294, 0.99607843, 0.25882353,\n",
       "        0.        , 0.        , 0.        ],\n",
       "       [0.        , 0.        , 0.        , 0.        , 0.        ,\n",
       "        0.96862745, 0.90196078, 0.98823529, 0.88627451, 0.78039216,\n",
       "        0.82745098, 0.79215686, 0.82745098, 0.83529412, 0.71372549,\n",
       "        0.83529412, 0.83137255, 0.80784314, 0.79215686, 0.85882353,\n",
       "        0.81176471, 0.96862745, 0.87058824, 0.92941176, 0.40784314,\n",
       "        0.        , 0.        , 0.        ],\n",
       "       [0.        , 0.        , 0.        , 0.        , 0.03921569,\n",
       "        0.95686275, 0.85882353, 0.98039216, 0.80392157, 0.78039216,\n",
       "        0.81960784, 0.79215686, 0.81960784, 0.82745098, 0.74117647,\n",
       "        0.83921569, 0.80784314, 0.82352941, 0.78431373, 0.83137255,\n",
       "        0.60392157, 0.94117647, 0.81568627, 0.85882353, 0.54901961,\n",
       "        0.        , 0.        , 0.        ],\n",
       "       [0.        , 0.        , 0.        , 0.        , 0.08235294,\n",
       "        1.        , 0.87058824, 0.93333333, 0.72156863, 0.82352941,\n",
       "        0.75294118, 0.80784314, 0.81960784, 0.82352941, 0.74117647,\n",
       "        0.83529412, 0.82745098, 0.81960784, 0.75294118, 0.89411765,\n",
       "        0.60784314, 0.88627451, 0.93333333, 0.94509804, 0.65098039,\n",
       "        0.        , 0.        , 0.        ],\n",
       "       [0.        , 0.        , 0.        , 0.        , 0.14509804,\n",
       "        0.96078431, 0.88627451, 0.94509804, 0.58823529, 0.77254902,\n",
       "        0.74117647, 0.8       , 0.81960784, 0.82352941, 0.71764706,\n",
       "        0.83529412, 0.83529412, 0.78823529, 0.72156863, 0.84313725,\n",
       "        0.57254902, 0.84705882, 0.9254902 , 0.88235294, 0.60392157,\n",
       "        0.        , 0.        , 0.        ],\n",
       "       [0.        , 0.        , 0.        , 0.        , 0.22745098,\n",
       "        0.9372549 , 0.89019608, 1.        , 0.61960784, 0.75686275,\n",
       "        0.76470588, 0.8       , 0.81960784, 0.83529412, 0.70588235,\n",
       "        0.81176471, 0.85098039, 0.78039216, 0.76078431, 0.82745098,\n",
       "        0.61960784, 0.85882353, 0.9254902 , 0.84705882, 0.59215686,\n",
       "        0.        , 0.        , 0.        ],\n",
       "       [0.        , 0.        , 0.        , 0.        , 0.26666667,\n",
       "        0.91372549, 0.88627451, 0.95294118, 0.54509804, 0.78431373,\n",
       "        0.75686275, 0.80392157, 0.82352941, 0.81568627, 0.70588235,\n",
       "        0.80392157, 0.83137255, 0.79607843, 0.76862745, 0.84705882,\n",
       "        0.61568627, 0.70196078, 1.        , 0.84705882, 0.60784314,\n",
       "        0.        , 0.        , 0.        ],\n",
       "       [0.        , 0.        , 0.        , 0.        , 0.31764706,\n",
       "        0.88235294, 0.87843137, 0.82745098, 0.54117647, 0.85882353,\n",
       "        0.7254902 , 0.78823529, 0.83529412, 0.81176471, 0.77254902,\n",
       "        0.88627451, 0.83137255, 0.78431373, 0.74509804, 0.84313725,\n",
       "        0.71764706, 0.35294118, 1.        , 0.82745098, 0.57647059,\n",
       "        0.        , 0.        , 0.        ],\n",
       "       [0.        , 0.        , 0.        , 0.        , 0.35686275,\n",
       "        0.82352941, 0.90196078, 0.61960784, 0.44705882, 0.80392157,\n",
       "        0.73333333, 0.81568627, 0.81960784, 0.80784314, 0.75686275,\n",
       "        0.82352941, 0.82745098, 0.8       , 0.76470588, 0.8       ,\n",
       "        0.70980392, 0.09019608, 1.        , 0.83529412, 0.61960784,\n",
       "        0.        , 0.        , 0.        ],\n",
       "       [0.        , 0.        , 0.        , 0.        , 0.34117647,\n",
       "        0.80392157, 0.90980392, 0.42745098, 0.64313725, 1.        ,\n",
       "        0.83921569, 0.87843137, 0.87058824, 0.82352941, 0.77254902,\n",
       "        0.83921569, 0.88235294, 0.87058824, 0.82745098, 0.8627451 ,\n",
       "        0.85098039, 0.        , 0.91764706, 0.84705882, 0.6627451 ,\n",
       "        0.        , 0.        , 0.        ],\n",
       "       [0.        , 0.        , 0.        , 0.        , 0.36078431,\n",
       "        0.83529412, 0.90980392, 0.57254902, 0.01960784, 0.5254902 ,\n",
       "        0.59215686, 0.63529412, 0.66666667, 0.71764706, 0.71372549,\n",
       "        0.64313725, 0.65098039, 0.69803922, 0.63529412, 0.61176471,\n",
       "        0.38431373, 0.        , 0.94117647, 0.88235294, 0.82352941,\n",
       "        0.        , 0.        , 0.        ],\n",
       "       [0.        , 0.        , 0.        , 0.        , 0.16862745,\n",
       "        0.64313725, 0.80784314, 0.55294118, 0.        , 0.        ,\n",
       "        0.        , 0.        , 0.        , 0.        , 0.        ,\n",
       "        0.        , 0.        , 0.        , 0.        , 0.        ,\n",
       "        0.        , 0.        , 0.49803922, 0.49019608, 0.29803922,\n",
       "        0.        , 0.        , 0.        ]])"
      ]
     },
     "execution_count": 11,
     "metadata": {},
     "output_type": "execute_result"
    }
   ],
   "source": [
    "X_train[0]"
   ]
  },
  {
   "cell_type": "code",
   "execution_count": 14,
   "metadata": {},
   "outputs": [
    {
     "name": "stdout",
     "output_type": "stream",
     "text": [
      "bota\n"
     ]
    },
    {
     "data": {
      "image/png": "[encoded data removed]",
      "text/plain": [
       "<Figure size 432x288 with 1 Axes>"
      ]
     },
     "metadata": {
      "needs_background": "light"
     },
     "output_type": "display_data"
    }
   ],
   "source": [
    "exemplo_n = 5\n",
    "print(nomes_classes[y_train[exemplo_n]])\n",
    "plt.imshow(X_train[exemplo_n], interpolation='nearest')\n",
    "plt.show()"
   ]
  },
  {
   "cell_type": "markdown",
   "metadata": {},
   "source": [
    "## Criando um modelo com Keras"
   ]
  },
  {
   "cell_type": "code",
   "execution_count": 15,
   "metadata": {},
   "outputs": [],
   "source": [
    "model = keras.models.Sequential()\n",
    "model.add(keras.layers.Flatten(input_shape=[28, 28]))\n",
    "model.add(keras.layers.Dense(300, activation=\"relu\"))\n",
    "model.add(keras.layers.Dropout(rate=0.1))\n",
    "model.add(keras.layers.Dense(100, activation=\"relu\"))\n",
    "model.add(keras.layers.Dropout(rate=0.1))\n",
    "model.add(keras.layers.Dense(10, activation=\"softmax\"))"
   ]
  },
  {
   "cell_type": "code",
   "execution_count": 16,
   "metadata": {},
   "outputs": [
    {
     "name": "stdout",
     "output_type": "stream",
     "text": [
      "Model: \"sequential\"\n",
      "_________________________________________________________________\n",
      "Layer (type)                 Output Shape              Param #   \n",
      "=================================================================\n",
      "flatten (Flatten)            (None, 784)               0         \n",
      "_________________________________________________________________\n",
      "dense (Dense)                (None, 300)               235500    \n",
      "_________________________________________________________________\n",
      "dropout (Dropout)            (None, 300)               0         \n",
      "_________________________________________________________________\n",
      "dense_1 (Dense)              (None, 100)               30100     \n",
      "_________________________________________________________________\n",
      "dropout_1 (Dropout)          (None, 100)               0         \n",
      "_________________________________________________________________\n",
      "dense_2 (Dense)              (None, 10)                1010      \n",
      "=================================================================\n",
      "Total params: 266,610\n",
      "Trainable params: 266,610\n",
      "Non-trainable params: 0\n",
      "_________________________________________________________________\n"
     ]
    }
   ],
   "source": [
    "model.summary()"
   ]
  },
  {
   "cell_type": "markdown",
   "metadata": {},
   "source": [
    "## Compilando o modelo"
   ]
  },
  {
   "cell_type": "code",
   "execution_count": 17,
   "metadata": {},
   "outputs": [],
   "source": [
    "model.compile(loss=\"sparse_categorical_crossentropy\",\n",
    "              optimizer=\"sgd\",\n",
    "              metrics=[\"accuracy\"])"
   ]
  },
  {
   "cell_type": "markdown",
   "metadata": {},
   "source": [
    "## Treinar o modelo"
   ]
  },
  {
   "cell_type": "code",
   "execution_count": 18,
   "metadata": {},
   "outputs": [
    {
     "name": "stdout",
     "output_type": "stream",
     "text": [
      "Train on 55000 samples, validate on 5000 samples\n",
      "Epoch 1/5\n",
      "55000/55000 [==============================] - 14s 262us/sample - loss: 0.7851 - accuracy: 0.7369 - val_loss: 0.5257 - val_accuracy: 0.8180\n",
      "Epoch 2/5\n",
      "55000/55000 [==============================] - 14s 256us/sample - loss: 0.5303 - accuracy: 0.8159 - val_loss: 0.4461 - val_accuracy: 0.8478\n",
      "Epoch 3/5\n",
      "55000/55000 [==============================] - 13s 232us/sample - loss: 0.4734 - accuracy: 0.8349 - val_loss: 0.4284 - val_accuracy: 0.8516\n",
      "Epoch 4/5\n",
      "55000/55000 [==============================] - 14s 258us/sample - loss: 0.4419 - accuracy: 0.8443 - val_loss: 0.3991 - val_accuracy: 0.8590\n",
      "Epoch 5/5\n",
      "55000/55000 [==============================] - 12s 218us/sample - loss: 0.4157 - accuracy: 0.8510 - val_loss: 0.3753 - val_accuracy: 0.8690\n"
     ]
    }
   ],
   "source": [
    "history = model.fit(X_train, y_train, epochs=5, validation_data=(X_valid, y_valid))"
   ]
  },
  {
   "cell_type": "markdown",
   "metadata": {},
   "source": [
    "## Visualizar a performance"
   ]
  },
  {
   "cell_type": "code",
   "execution_count": 19,
   "metadata": {},
   "outputs": [
    {
     "data": {
      "image/png": "[encoded data removed]",
      "text/plain": [
       "<Figure size 864x576 with 1 Axes>"
      ]
     },
     "metadata": {
      "needs_background": "light"
     },
     "output_type": "display_data"
    }
   ],
   "source": [
    "pd.DataFrame(history.history).plot(figsize=(12, 8))\n",
    "plt.grid(True)\n",
    "plt.gca().set_ylim(0, 1) # set the vertical range to [0-1]\n",
    "plt.show()"
   ]
  },
  {
   "cell_type": "markdown",
   "metadata": {},
   "source": [
    "## Avaliar o modelo"
   ]
  },
  {
   "cell_type": "code",
   "execution_count": 20,
   "metadata": {},
   "outputs": [
    {
     "name": "stdout",
     "output_type": "stream",
     "text": [
      "10000/10000 [==============================] - 1s 137us/sample - loss: 65.6357 - accuracy: 0.8148\n"
     ]
    },
    {
     "data": {
      "text/plain": [
       "[65.63566342315674, 0.8148]"
      ]
     },
     "execution_count": 20,
     "metadata": {},
     "output_type": "execute_result"
    }
   ],
   "source": [
    "# prints the loss and the accuracy\n",
    "model.evaluate(X_test, y_test,verbose=1)"
   ]
  },
  {
   "cell_type": "markdown",
   "metadata": {},
   "source": [
    "## Prever"
   ]
  },
  {
   "cell_type": "code",
   "execution_count": 21,
   "metadata": {},
   "outputs": [
    {
     "data": {
      "text/plain": [
       "array([[0., 0., 0., 0., 0., 0., 0., 0., 0., 1.],\n",
       "       [0., 0., 1., 0., 0., 0., 0., 0., 0., 0.],\n",
       "       [0., 1., 0., 0., 0., 0., 0., 0., 0., 0.],\n",
       "       [0., 1., 0., 0., 0., 0., 0., 0., 0., 0.]], dtype=float32)"
      ]
     },
     "execution_count": 21,
     "metadata": {},
     "output_type": "execute_result"
    }
   ],
   "source": [
    "X_novo = X_test[:4]\n",
    "y_proba = model.predict(X_novo)\n",
    "y_proba"
   ]
  },
  {
   "cell_type": "code",
   "execution_count": 22,
   "metadata": {},
   "outputs": [
    {
     "name": "stdout",
     "output_type": "stream",
     "text": [
      "[9 2 1 1]\n",
      "['bota' 'casaco' 'calca' 'calca']\n"
     ]
    }
   ],
   "source": [
    "y_pred = model.predict_classes(X_novo)\n",
    "print(y_pred)\n",
    "print(np.array(nomes_classes)[y_pred])"
   ]
  },
  {
   "cell_type": "markdown",
   "metadata": {},
   "source": [
    "## Verificar os resultados"
   ]
  },
  {
   "cell_type": "code",
   "execution_count": 23,
   "metadata": {},
   "outputs": [
    {
     "name": "stdout",
     "output_type": "stream",
     "text": [
      "[9 2 1 1]\n"
     ]
    },
    {
     "data": {
      "text/plain": [
       "array(['bota', 'casaco', 'calca', 'calca'], dtype='|S10')"
      ]
     },
     "execution_count": 23,
     "metadata": {},
     "output_type": "execute_result"
    }
   ],
   "source": [
    "y_novo = y_test[:4]\n",
    "print(y_novo)\n",
    "np.array(nomes_classes)[y_pred]"
   ]
  },
  {
   "cell_type": "code",
   "execution_count": 25,
   "metadata": {},
   "outputs": [
    {
     "name": "stdout",
     "output_type": "stream",
     "text": [
      "calca\n"
     ]
    },
    {
     "data": {
      "image/png": "[encoded data removed]",
      "text/plain": [
       "<Figure size 432x288 with 1 Axes>"
      ]
     },
     "metadata": {
      "needs_background": "light"
     },
     "output_type": "display_data"
    }
   ],
   "source": [
    "# example_n = 201\n",
    "print(nomes_classes[y_pred[2]])\n",
    "plt.imshow(X_novo[2], interpolation='nearest')\n",
    "plt.show()"
   ]
  },
  {
   "cell_type": "markdown",
   "metadata": {},
   "source": [
    "## O nosso simples modelo acertou esses 4 exempls"
   ]
  }
 ],
 "metadata": {
  "kernelspec": {
   "display_name": "Python 2",
   "language": "python",
   "name": "python2"
  },
  "language_info": {
   "codemirror_mode": {
    "name": "ipython",
    "version": 2
   },
   "file_extension": ".py",
   "mimetype": "text/x-python",
   "name": "python",
   "nbconvert_exporter": "python",
   "pygments_lexer": "ipython2",
   "version": "2.7.10"
  }
 },
 "nbformat": 4,
 "nbformat_minor": 2
}
