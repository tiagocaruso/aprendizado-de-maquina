{
 "cells": [
  {
   "cell_type": "code",
   "execution_count": 35,
   "metadata": {},
   "outputs": [],
   "source": [
    "import tensorflow as tf\n",
    "from tensorflow import keras"
   ]
  },
  {
   "cell_type": "code",
   "execution_count": 36,
   "metadata": {},
   "outputs": [],
   "source": [
    "import numpy as np\n",
    "import pandas as pd\n",
    "from matplotlib import pyplot as plt\n",
    "%matplotlib inline "
   ]
  },
  {
   "cell_type": "markdown",
   "metadata": {},
   "source": [
    "## Importando base de dados"
   ]
  },
  {
   "cell_type": "code",
   "execution_count": 37,
   "metadata": {},
   "outputs": [],
   "source": [
    "fashion_mnist = keras.datasets.fashion_mnist\n"
   ]
  },
  {
   "cell_type": "code",
   "execution_count": 38,
   "metadata": {},
   "outputs": [],
   "source": [
    "(X_train_full, y_train_full), (X_test, y_test) = fashion_mnist.load_data()"
   ]
  },
  {
   "cell_type": "code",
   "execution_count": 39,
   "metadata": {},
   "outputs": [
    {
     "name": "stdout",
     "output_type": "stream",
     "text": [
      "(60000, 28, 28)\n",
      "(60000,)\n",
      "(10000, 28, 28)\n",
      "(10000,)\n"
     ]
    }
   ],
   "source": [
    "print(X_train_full.shape)\n",
    "print(y_train_full.shape)\n",
    "print(X_test.shape)\n",
    "print(y_test.shape)"
   ]
  },
  {
   "cell_type": "code",
   "execution_count": 40,
   "metadata": {},
   "outputs": [],
   "source": [
    "# Transformar a escala para que os valores fiquem entre 0 e 1\n",
    "X_valid, X_train = X_train_full[:5000] / 255.0, X_train_full[5000:] / 255.0\n",
    "y_valid, y_train = y_train_full[:5000], y_train_full[5000:]"
   ]
  },
  {
   "cell_type": "code",
   "execution_count": 41,
   "metadata": {},
   "outputs": [],
   "source": [
    "nomes_classes = [\"camisa/top\", \"calca\", \"casaco\", \"vestido\", \"jaqueta\", \n",
    "               \"sandalia\", \"camiseta\", \"tenis\", \"bolsa\", \"bota\"]"
   ]
  },
  {
   "cell_type": "code",
   "execution_count": 8,
   "metadata": {},
   "outputs": [],
   "source": [
    "# nomes_classes[y_train[0]]"
   ]
  },
  {
   "cell_type": "code",
   "execution_count": 9,
   "metadata": {},
   "outputs": [],
   "source": [
    "# X_train[0]"
   ]
  },
  {
   "cell_type": "code",
   "execution_count": 44,
   "metadata": {},
   "outputs": [
    {
     "name": "stdout",
     "output_type": "stream",
     "text": [
      "bota\n"
     ]
    },
    {
     "data": {
      "image/png": "[encoded data removed]",
      "text/plain": [
       "<Figure size 432x288 with 1 Axes>"
      ]
     },
     "metadata": {
      "needs_background": "light"
     },
     "output_type": "display_data"
    }
   ],
   "source": [
    "exemplo_n = 5\n",
    "print(nomes_classes[y_train[exemplo_n]])\n",
    "plt.imshow(X_train[exemplo_n], interpolation='nearest')\n",
    "plt.show()"
   ]
  },
  {
   "cell_type": "markdown",
   "metadata": {},
   "source": [
    "#  Rede Neural com Keras"
   ]
  },
  {
   "cell_type": "code",
   "execution_count": 32,
   "metadata": {},
   "outputs": [
    {
     "name": "stdout",
     "output_type": "stream",
     "text": [
      "Model: \"sequential_2\"\n",
      "_________________________________________________________________\n",
      "Layer (type)                 Output Shape              Param #   \n",
      "=================================================================\n",
      "flatten_2 (Flatten)          (None, 784)               0         \n",
      "_________________________________________________________________\n",
      "dense_6 (Dense)              (None, 300)               235500    \n",
      "_________________________________________________________________\n",
      "dropout_4 (Dropout)          (None, 300)               0         \n",
      "_________________________________________________________________\n",
      "dense_7 (Dense)              (None, 100)               30100     \n",
      "_________________________________________________________________\n",
      "dropout_5 (Dropout)          (None, 100)               0         \n",
      "_________________________________________________________________\n",
      "dense_8 (Dense)              (None, 10)                1010      \n",
      "=================================================================\n",
      "Total params: 266,610\n",
      "Trainable params: 266,610\n",
      "Non-trainable params: 0\n",
      "_________________________________________________________________\n"
     ]
    }
   ],
   "source": [
    "nn = keras.models.Sequential()\n",
    "nn.add(keras.layers.Flatten(input_shape=[28, 28]))\n",
    "nn.add(keras.layers.Dense(300, activation=\"relu\"))\n",
    "nn.add(keras.layers.Dropout(rate=0.1))\n",
    "nn.add(keras.layers.Dense(100, activation=\"relu\"))\n",
    "nn.add(keras.layers.Dropout(rate=0.1))\n",
    "nn.add(keras.layers.Dense(10, activation=\"softmax\"))\n",
    "nn.summary()"
   ]
  },
  {
   "cell_type": "markdown",
   "metadata": {},
   "source": [
    "### Compilando e treinando o modelo"
   ]
  },
  {
   "cell_type": "code",
   "execution_count": 34,
   "metadata": {},
   "outputs": [
    {
     "name": "stdout",
     "output_type": "stream",
     "text": [
      "CPU times: user 5 µs, sys: 2 µs, total: 7 µs\n",
      "Wall time: 8.11 µs\n",
      "Train on 55000 samples, validate on 5000 samples\n",
      "Epoch 1/20\n",
      "55000/55000 [==============================] - 7s 131us/sample - loss: 0.7933 - accuracy: 0.7344 - val_loss: 0.5139 - val_accuracy: 0.8250\n",
      "Epoch 2/20\n",
      "55000/55000 [==============================] - 8s 141us/sample - loss: 0.5300 - accuracy: 0.8147 - val_loss: 0.4430 - val_accuracy: 0.8526\n",
      "Epoch 3/20\n",
      "55000/55000 [==============================] - 8s 140us/sample - loss: 0.4721 - accuracy: 0.8350 - val_loss: 0.4219 - val_accuracy: 0.8520\n",
      "Epoch 4/20\n",
      "55000/55000 [==============================] - 7s 129us/sample - loss: 0.4399 - accuracy: 0.8452 - val_loss: 0.3915 - val_accuracy: 0.8652\n",
      "Epoch 5/20\n",
      "55000/55000 [==============================] - 8s 144us/sample - loss: 0.4174 - accuracy: 0.8528 - val_loss: 0.3832 - val_accuracy: 0.8626\n",
      "Epoch 6/20\n",
      "55000/55000 [==============================] - 7s 131us/sample - loss: 0.3985 - accuracy: 0.8584 - val_loss: 0.3748 - val_accuracy: 0.8718\n",
      "Epoch 7/20\n",
      "55000/55000 [==============================] - 9s 171us/sample - loss: 0.3843 - accuracy: 0.8625 - val_loss: 0.3571 - val_accuracy: 0.8700\n",
      "Epoch 8/20\n",
      "55000/55000 [==============================] - 9s 167us/sample - loss: 0.3711 - accuracy: 0.8677 - val_loss: 0.3478 - val_accuracy: 0.8758\n",
      "Epoch 9/20\n",
      "55000/55000 [==============================] - 12s 214us/sample - loss: 0.3606 - accuracy: 0.8703 - val_loss: 0.3393 - val_accuracy: 0.8794\n",
      "Epoch 10/20\n",
      "55000/55000 [==============================] - 12s 210us/sample - loss: 0.3511 - accuracy: 0.8741 - val_loss: 0.3346 - val_accuracy: 0.8808\n",
      "Epoch 11/20\n",
      "55000/55000 [==============================] - 11s 200us/sample - loss: 0.3444 - accuracy: 0.8767 - val_loss: 0.3304 - val_accuracy: 0.8830\n",
      "Epoch 12/20\n",
      "55000/55000 [==============================] - 7s 136us/sample - loss: 0.3370 - accuracy: 0.8788 - val_loss: 0.3387 - val_accuracy: 0.8754\n",
      "Epoch 13/20\n",
      "55000/55000 [==============================] - 11s 205us/sample - loss: 0.3288 - accuracy: 0.8827 - val_loss: 0.3313 - val_accuracy: 0.8816\n",
      "Epoch 14/20\n",
      "55000/55000 [==============================] - 8s 146us/sample - loss: 0.3231 - accuracy: 0.8834 - val_loss: 0.3313 - val_accuracy: 0.8790\n",
      "Epoch 15/20\n",
      "55000/55000 [==============================] - 9s 169us/sample - loss: 0.3189 - accuracy: 0.8855 - val_loss: 0.3232 - val_accuracy: 0.8854\n",
      "Epoch 16/20\n",
      "55000/55000 [==============================] - 12s 213us/sample - loss: 0.3106 - accuracy: 0.8872 - val_loss: 0.3156 - val_accuracy: 0.8894\n",
      "Epoch 17/20\n",
      "55000/55000 [==============================] - 9s 162us/sample - loss: 0.3066 - accuracy: 0.8887 - val_loss: 0.3201 - val_accuracy: 0.8850\n",
      "Epoch 18/20\n",
      "55000/55000 [==============================] - 7s 130us/sample - loss: 0.3017 - accuracy: 0.8913 - val_loss: 0.3109 - val_accuracy: 0.8868\n",
      "Epoch 19/20\n",
      "55000/55000 [==============================] - 7s 124us/sample - loss: 0.2978 - accuracy: 0.8919 - val_loss: 0.3063 - val_accuracy: 0.8922\n",
      "Epoch 20/20\n",
      "55000/55000 [==============================] - 8s 144us/sample - loss: 0.2920 - accuracy: 0.8941 - val_loss: 0.3062 - val_accuracy: 0.8926\n"
     ]
    }
   ],
   "source": [
    "%time \n",
    "nn.compile(loss=\"sparse_categorical_crossentropy\",\n",
    "              optimizer=\"sgd\",\n",
    "              metrics=[\"accuracy\"])\n",
    "history_nn = nn.fit(X_train, y_train, epochs=20, validation_data=(X_valid, y_valid))"
   ]
  },
  {
   "cell_type": "markdown",
   "metadata": {},
   "source": [
    "### Avaliar o modelo"
   ]
  },
  {
   "cell_type": "code",
   "execution_count": 45,
   "metadata": {},
   "outputs": [
    {
     "name": "stdout",
     "output_type": "stream",
     "text": [
      "10000/10000 [==============================] - 3s 262us/sample - loss: 60.9244 - accuracy: 0.8296s \n"
     ]
    },
    {
     "data": {
      "text/plain": [
       "[60.92439128608704, 0.8296]"
      ]
     },
     "execution_count": 45,
     "metadata": {},
     "output_type": "execute_result"
    }
   ],
   "source": [
    "# prints the loss and the accuracy\n",
    "nn.evaluate(X_test, y_test,verbose=1)"
   ]
  },
  {
   "cell_type": "markdown",
   "metadata": {},
   "source": [
    "# Treinando CNN com Keras"
   ]
  },
  {
   "cell_type": "code",
   "execution_count": 14,
   "metadata": {},
   "outputs": [],
   "source": [
    "cnn = keras.models.Sequential([\n",
    "keras.layers.InputLayer(input_shape = (28,28,1)),\n",
    "keras.layers.Conv2D(64,5, activation='relu', padding='same', kernel_initializer='glorot_uniform'),\n",
    "keras.layers.MaxPool2D(2),\n",
    "keras.layers.Conv2D(128,3, activation='relu', padding='same'),\n",
    "keras.layers.Conv2D(128,3, activation='relu', padding='same'),\n",
    "keras.layers.MaxPool2D(2),\n",
    "keras.layers.Conv2D(258,3, activation='relu', padding='same'),\n",
    "keras.layers.Conv2D(258,3, activation='relu', padding='same'),\n",
    "keras.layers.MaxPool2D(2),\n",
    "keras.layers.Flatten(),\n",
    "keras.layers.Dense(128, activation=\"relu\"),\n",
    "keras.layers.Dropout(rate=0.5),\n",
    "keras.layers.Dense(64, activation=\"relu\"),        \n",
    "keras.layers.Dropout(rate=0.5),\n",
    "keras.layers.Dense(10, activation=\"softmax\")])        \n"
   ]
  },
  {
   "cell_type": "code",
   "execution_count": 15,
   "metadata": {},
   "outputs": [
    {
     "name": "stdout",
     "output_type": "stream",
     "text": [
      "Model: \"sequential_1\"\n",
      "_________________________________________________________________\n",
      "Layer (type)                 Output Shape              Param #   \n",
      "=================================================================\n",
      "conv2d (Conv2D)              (None, 28, 28, 64)        1664      \n",
      "_________________________________________________________________\n",
      "max_pooling2d (MaxPooling2D) (None, 14, 14, 64)        0         \n",
      "_________________________________________________________________\n",
      "conv2d_1 (Conv2D)            (None, 14, 14, 128)       73856     \n",
      "_________________________________________________________________\n",
      "conv2d_2 (Conv2D)            (None, 14, 14, 128)       147584    \n",
      "_________________________________________________________________\n",
      "max_pooling2d_1 (MaxPooling2 (None, 7, 7, 128)         0         \n",
      "_________________________________________________________________\n",
      "conv2d_3 (Conv2D)            (None, 7, 7, 258)         297474    \n",
      "_________________________________________________________________\n",
      "conv2d_4 (Conv2D)            (None, 7, 7, 258)         599334    \n",
      "_________________________________________________________________\n",
      "max_pooling2d_2 (MaxPooling2 (None, 3, 3, 258)         0         \n",
      "_________________________________________________________________\n",
      "flatten_1 (Flatten)          (None, 2322)              0         \n",
      "_________________________________________________________________\n",
      "dense_3 (Dense)              (None, 128)               297344    \n",
      "_________________________________________________________________\n",
      "dropout_2 (Dropout)          (None, 128)               0         \n",
      "_________________________________________________________________\n",
      "dense_4 (Dense)              (None, 64)                8256      \n",
      "_________________________________________________________________\n",
      "dropout_3 (Dropout)          (None, 64)                0         \n",
      "_________________________________________________________________\n",
      "dense_5 (Dense)              (None, 10)                650       \n",
      "=================================================================\n",
      "Total params: 1,426,162\n",
      "Trainable params: 1,426,162\n",
      "Non-trainable params: 0\n",
      "_________________________________________________________________\n"
     ]
    }
   ],
   "source": [
    "cnn.summary()"
   ]
  },
  {
   "cell_type": "code",
   "execution_count": 46,
   "metadata": {},
   "outputs": [
    {
     "name": "stdout",
     "output_type": "stream",
     "text": [
      "(55000, 28, 28)\n",
      "(55000, 28, 28, 1)\n"
     ]
    }
   ],
   "source": [
    "print(X_train.shape)\n",
    "X_train_new = X_train.reshape(X_train.shape[0], X_train.shape[1], X_train.shape[2],1)\n",
    "X_valid_new = X_valid.reshape(X_valid.shape[0], X_valid.shape[1], X_valid.shape[2],1)\n",
    "X_test_new = X_test.reshape(X_test.shape[0], X_test.shape[1], X_test.shape[2],1)\n",
    "print(X_train_new.shape)"
   ]
  },
  {
   "cell_type": "code",
   "execution_count": 18,
   "metadata": {},
   "outputs": [
    {
     "name": "stdout",
     "output_type": "stream",
     "text": [
      "Train on 55000 samples, validate on 5000 samples\n",
      "Epoch 1/20\n",
      "55000/55000 [==============================] - 475s 9ms/sample - loss: 1.3218 - accuracy: 0.5146 - val_loss: 0.6584 - val_accuracy: 0.7396\n",
      "Epoch 2/20\n",
      "55000/55000 [==============================] - 504s 9ms/sample - loss: 0.7864 - accuracy: 0.7110 - val_loss: 0.5440 - val_accuracy: 0.7978\n",
      "Epoch 3/20\n",
      "55000/55000 [==============================] - 540s 10ms/sample - loss: 0.6542 - accuracy: 0.7590 - val_loss: 0.4776 - val_accuracy: 0.8154\n",
      "Epoch 4/20\n",
      "55000/55000 [==============================] - 473s 9ms/sample - loss: 0.5909 - accuracy: 0.7836 - val_loss: 0.4297 - val_accuracy: 0.8332\n",
      "Epoch 5/20\n",
      "55000/55000 [==============================] - 473s 9ms/sample - loss: 0.5420 - accuracy: 0.8060 - val_loss: 0.4060 - val_accuracy: 0.8568\n",
      "Epoch 6/20\n",
      "55000/55000 [==============================] - 457s 8ms/sample - loss: 0.5074 - accuracy: 0.8233 - val_loss: 0.3864 - val_accuracy: 0.8564\n",
      "Epoch 7/20\n",
      "55000/55000 [==============================] - 468s 9ms/sample - loss: 0.4789 - accuracy: 0.8335 - val_loss: 0.3539 - val_accuracy: 0.8708\n",
      "Epoch 8/20\n",
      "55000/55000 [==============================] - 481s 9ms/sample - loss: 0.4527 - accuracy: 0.8422 - val_loss: 0.3360 - val_accuracy: 0.8750\n",
      "Epoch 9/20\n",
      "55000/55000 [==============================] - 480s 9ms/sample - loss: 0.4281 - accuracy: 0.8511 - val_loss: 0.3334 - val_accuracy: 0.8766\n",
      "Epoch 10/20\n",
      "55000/55000 [==============================] - 479s 9ms/sample - loss: 0.4142 - accuracy: 0.8575 - val_loss: 0.3201 - val_accuracy: 0.8828\n",
      "Epoch 11/20\n",
      "55000/55000 [==============================] - 464s 8ms/sample - loss: 0.3985 - accuracy: 0.8630 - val_loss: 0.3070 - val_accuracy: 0.8892\n",
      "Epoch 12/20\n",
      "55000/55000 [==============================] - 463s 8ms/sample - loss: 0.3830 - accuracy: 0.8692 - val_loss: 0.3124 - val_accuracy: 0.8816\n",
      "Epoch 13/20\n",
      "55000/55000 [==============================] - 463s 8ms/sample - loss: 0.3697 - accuracy: 0.8731 - val_loss: 0.2939 - val_accuracy: 0.8884\n",
      "Epoch 14/20\n",
      "55000/55000 [==============================] - 462s 8ms/sample - loss: 0.3611 - accuracy: 0.8775 - val_loss: 0.2951 - val_accuracy: 0.8912\n",
      "Epoch 15/20\n",
      "55000/55000 [==============================] - 464s 8ms/sample - loss: 0.3500 - accuracy: 0.8790 - val_loss: 0.2779 - val_accuracy: 0.8976\n",
      "Epoch 16/20\n",
      "55000/55000 [==============================] - 464s 8ms/sample - loss: 0.3374 - accuracy: 0.8835 - val_loss: 0.2793 - val_accuracy: 0.8936\n",
      "Epoch 17/20\n",
      "55000/55000 [==============================] - 458s 8ms/sample - loss: 0.3294 - accuracy: 0.8855 - val_loss: 0.2855 - val_accuracy: 0.8920\n",
      "Epoch 18/20\n",
      "55000/55000 [==============================] - 466s 8ms/sample - loss: 0.3227 - accuracy: 0.8894 - val_loss: 0.2663 - val_accuracy: 0.9006\n",
      "Epoch 19/20\n",
      "55000/55000 [==============================] - 467s 8ms/sample - loss: 0.3147 - accuracy: 0.8922 - val_loss: 0.2805 - val_accuracy: 0.8966\n",
      "Epoch 20/20\n",
      "55000/55000 [==============================] - 464s 8ms/sample - loss: 0.3091 - accuracy: 0.8947 - val_loss: 0.2639 - val_accuracy: 0.9032\n"
     ]
    }
   ],
   "source": [
    "cnn.compile(loss=\"sparse_categorical_crossentropy\",\n",
    "              optimizer=\"sgd\",\n",
    "              metrics=[\"accuracy\"])\n",
    "history_cnn = cnn.fit(X_train_new, y_train, epochs=20, validation_data=(X_valid_new, y_valid))"
   ]
  },
  {
   "cell_type": "markdown",
   "metadata": {},
   "source": [
    "### Avaliar o modelo"
   ]
  },
  {
   "cell_type": "code",
   "execution_count": 22,
   "metadata": {},
   "outputs": [
    {
     "name": "stdout",
     "output_type": "stream",
     "text": [
      "10000/10000 [==============================] - 23s 2ms/sample - loss: 22.5007 - accuracy: 0.8719\n"
     ]
    },
    {
     "data": {
      "text/plain": [
       "[22.50065226088291, 0.8719]"
      ]
     },
     "execution_count": 22,
     "metadata": {},
     "output_type": "execute_result"
    }
   ],
   "source": [
    "cnn.evaluate(X_test_new, y_test,verbose=1)"
   ]
  },
  {
   "cell_type": "code",
   "execution_count": 47,
   "metadata": {},
   "outputs": [
    {
     "data": {
      "image/png": "[encoded data removed]",
      "text/plain": [
       "<Figure size 864x576 with 1 Axes>"
      ]
     },
     "metadata": {
      "needs_background": "light"
     },
     "output_type": "display_data"
    }
   ],
   "source": [
    "pd.DataFrame(history_cnn.history).plot(figsize=(12, 8))\n",
    "plt.grid(True)\n",
    "plt.gca().set_ylim(0, 1) # set the vertical range to [0-1]\n",
    "plt.show()"
   ]
  },
  {
   "cell_type": "code",
   "execution_count": null,
   "metadata": {},
   "outputs": [],
   "source": []
  }
 ],
 "metadata": {
  "kernelspec": {
   "display_name": "Python 2",
   "language": "python",
   "name": "python2"
  },
  "language_info": {
   "codemirror_mode": {
    "name": "ipython",
    "version": 2
   },
   "file_extension": ".py",
   "mimetype": "text/x-python",
   "name": "python",
   "nbconvert_exporter": "python",
   "pygments_lexer": "ipython2",
   "version": "2.7.10"
  }
 },
 "nbformat": 4,
 "nbformat_minor": 2
}
